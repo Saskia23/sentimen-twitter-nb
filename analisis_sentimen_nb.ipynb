{
 "cells": [
  {
   "cell_type": "markdown",
   "id": "214b27e3",
   "metadata": {},
   "source": [
    "# Analisis Sentimen Twitter menggunakan Naive Bayes"
   ]
  },
  {
   "cell_type": "code",
   "execution_count": null,
   "id": "d262361e",
   "metadata": {},
   "outputs": [],
   "source": [
    "\n",
    "import pandas as pd\n",
    "import numpy as np\n",
    "import matplotlib.pyplot as plt\n",
    "import seaborn as sns\n",
    "import re\n",
    "from wordcloud import WordCloud\n",
    "\n",
    "from sklearn.model_selection import train_test_split\n",
    "from sklearn.feature_extraction.text import TfidfVectorizer\n",
    "from sklearn.naive_bayes import MultinomialNB\n",
    "from sklearn.metrics import classification_report, confusion_matrix\n",
    "\n",
    "import nltk\n",
    "nltk.download('stopwords')\n",
    "from nltk.corpus import stopwords\n"
   ]
  },
  {
   "cell_type": "code",
   "execution_count": null,
   "id": "ac83919b",
   "metadata": {},
   "outputs": [],
   "source": [
    "\n",
    "# Load dataset (upload Tweets.csv dulu di Colab)\n",
    "from google.colab import files\n",
    "uploaded = files.upload()\n",
    "\n",
    "df = pd.read_csv(\"Tweets.csv\")\n",
    "df = df[['airline_sentiment', 'text']].dropna()\n",
    "df = df[df['airline_sentiment'].isin(['positive', 'neutral', 'negative'])]\n",
    "df.head()\n"
   ]
  },
  {
   "cell_type": "code",
   "execution_count": null,
   "id": "d7dec6d4",
   "metadata": {},
   "outputs": [],
   "source": [
    "\n",
    "# Preprocessing teks\n",
    "stop_words = set(stopwords.words('english'))\n",
    "\n",
    "def clean_text(text):\n",
    "    text = re.sub(r\"http\\S+\", \"\", text)\n",
    "    text = re.sub(r\"@\\w+|#[A-Za-z0-9]+\", \"\", text)\n",
    "    text = re.sub(r\"[^a-zA-Z]\", \" \", text)\n",
    "    tokens = text.lower().split()\n",
    "    tokens = [word for word in tokens if word not in stop_words]\n",
    "    return \" \".join(tokens)\n",
    "\n",
    "df['clean_text'] = df['text'].apply(clean_text)\n",
    "df[['text', 'clean_text']].head()\n"
   ]
  },
  {
   "cell_type": "code",
   "execution_count": null,
   "id": "90eef97e",
   "metadata": {},
   "outputs": [],
   "source": [
    "\n",
    "# TF-IDF dan split data\n",
    "tfidf = TfidfVectorizer(max_features=3000)\n",
    "X = tfidf.fit_transform(df['clean_text'])\n",
    "y = df['airline_sentiment']\n",
    "\n",
    "X_train, X_test, y_train, y_test = train_test_split(X, y, test_size=0.2, random_state=42)\n"
   ]
  },
  {
   "cell_type": "code",
   "execution_count": null,
   "id": "1e762eed",
   "metadata": {},
   "outputs": [],
   "source": [
    "\n",
    "# Train model Naive Bayes\n",
    "model = MultinomialNB()\n",
    "model.fit(X_train, y_train)\n",
    "y_pred = model.predict(X_test)\n"
   ]
  },
  {
   "cell_type": "code",
   "execution_count": null,
   "id": "03c457dc",
   "metadata": {},
   "outputs": [],
   "source": [
    "\n",
    "# Evaluasi model\n",
    "print(\"Classification Report:\\n\")\n",
    "print(classification_report(y_test, y_pred))\n"
   ]
  },
  {
   "cell_type": "code",
   "execution_count": null,
   "id": "1521d1ee",
   "metadata": {},
   "outputs": [],
   "source": [
    "\n",
    "# Confusion matrix\n",
    "plt.figure(figsize=(8,6))\n",
    "cm = confusion_matrix(y_test, y_pred, labels=[\"positive\", \"neutral\", \"negative\"])\n",
    "sns.heatmap(cm, annot=True, fmt='d', cmap=\"Blues\", xticklabels=[\"positive\", \"neutral\", \"negative\"],\n",
    "            yticklabels=[\"positive\", \"neutral\", \"negative\"])\n",
    "plt.title(\"Confusion Matrix - Twitter Sentiment Naive Bayes\")\n",
    "plt.xlabel(\"Predicted\")\n",
    "plt.ylabel(\"Actual\")\n",
    "plt.show()\n"
   ]
  },
  {
   "cell_type": "code",
   "execution_count": null,
   "id": "7e063803",
   "metadata": {},
   "outputs": [],
   "source": [
    "\n",
    "# Wordcloud untuk tiap sentimen\n",
    "for sentiment in ['positive', 'neutral', 'negative']:\n",
    "    text = \" \".join(df[df['airline_sentiment'] == sentiment]['clean_text'])\n",
    "    wc = WordCloud(width=800, height=400, background_color='white').generate(text)\n",
    "    plt.figure(figsize=(8,4))\n",
    "    plt.imshow(wc, interpolation='bilinear')\n",
    "    plt.axis('off')\n",
    "    plt.title(f'WordCloud for {sentiment} tweets')\n",
    "    plt.show()\n"
   ]
  }
 ],
 "metadata": {
  "kernelspec": {
   "display_name": "Python 3",
   "name": "python3"
  },
  "language_info": {
   "name": "python",
   "version": "3.8.10"
  }
 },
 "nbformat": 4,
 "nbformat_minor": 5
}
